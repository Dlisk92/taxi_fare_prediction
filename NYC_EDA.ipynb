{
 "cells": [
  {
   "cell_type": "code",
   "execution_count": 1,
   "metadata": {},
   "outputs": [],
   "source": [
    "# load normal libraries\n",
    "\n",
    "import pandas as pd\n",
    "import numpy as np\n",
    "import matplotlib.pyplot as plt\n",
    "import seaborn as sns\n",
    "from sklearn.pipeline import Pipeline, make_pipeline\n",
    "from sklearn.preprocessing import PolynomialFeatures, RobustScaler\n",
    "from sklearn.linear_model import LinearRegression, Ridge, Lasso, LogisticRegression\n",
    "from sklearn.model_selection import cross_val_score\n",
    "from sklearn import linear_model\n",
    "from sklearn.linear_model import LinearRegression, Lasso, Ridge, ElasticNet\n",
    "from sklearn.utils import check_random_state\n",
    "from sklearn.pipeline import make_pipeline\n",
    "from sklearn.preprocessing import PolynomialFeatures\n",
    "from sklearn.preprocessing import RobustScaler\n",
    "from sklearn.model_selection import cross_val_predict, cross_val_score\n",
    "from sklearn.preprocessing import QuantileTransformer\n",
    "from sklearn.compose import TransformedTargetRegressor\n",
    "from sklearn.decomposition import PCA\n",
    "from pyearth import Earth\n",
    "np.warnings.filterwarnings('ignore')\n",
    "\n",
    "from mlxtend.regressor import StackingCVRegressor"
   ]
  },
  {
   "cell_type": "code",
   "execution_count": 2,
   "metadata": {},
   "outputs": [],
   "source": [
    "# import data\n",
    "\n",
    "df = pd.read_csv('train.csv', nrows=90000, parse_dates=['pickup_datetime'], infer_datetime_format=True) \n",
    "target = 'fare_amount'"
   ]
  },
  {
   "cell_type": "code",
   "execution_count": 3,
   "metadata": {},
   "outputs": [
    {
     "name": "stdout",
     "output_type": "stream",
     "text": [
      "<class 'pandas.core.frame.DataFrame'>\n",
      "RangeIndex: 90000 entries, 0 to 89999\n",
      "Data columns (total 8 columns):\n",
      "key                  90000 non-null object\n",
      "fare_amount          90000 non-null float64\n",
      "pickup_datetime      90000 non-null datetime64[ns]\n",
      "pickup_longitude     90000 non-null float64\n",
      "pickup_latitude      90000 non-null float64\n",
      "dropoff_longitude    90000 non-null float64\n",
      "dropoff_latitude     90000 non-null float64\n",
      "passenger_count      90000 non-null int64\n",
      "dtypes: datetime64[ns](1), float64(5), int64(1), object(1)\n",
      "memory usage: 5.5+ MB\n"
     ]
    },
    {
     "data": {
      "text/html": [
       "<div>\n",
       "<style scoped>\n",
       "    .dataframe tbody tr th:only-of-type {\n",
       "        vertical-align: middle;\n",
       "    }\n",
       "\n",
       "    .dataframe tbody tr th {\n",
       "        vertical-align: top;\n",
       "    }\n",
       "\n",
       "    .dataframe thead th {\n",
       "        text-align: right;\n",
       "    }\n",
       "</style>\n",
       "<table border=\"1\" class=\"dataframe\">\n",
       "  <thead>\n",
       "    <tr style=\"text-align: right;\">\n",
       "      <th></th>\n",
       "      <th>key</th>\n",
       "      <th>fare_amount</th>\n",
       "      <th>pickup_datetime</th>\n",
       "      <th>pickup_longitude</th>\n",
       "      <th>pickup_latitude</th>\n",
       "      <th>dropoff_longitude</th>\n",
       "      <th>dropoff_latitude</th>\n",
       "      <th>passenger_count</th>\n",
       "    </tr>\n",
       "  </thead>\n",
       "  <tbody>\n",
       "    <tr>\n",
       "      <td>0</td>\n",
       "      <td>2009-06-15 17:26:21.0000001</td>\n",
       "      <td>4.5</td>\n",
       "      <td>2009-06-15 17:26:21</td>\n",
       "      <td>-73.844311</td>\n",
       "      <td>40.721319</td>\n",
       "      <td>-73.841610</td>\n",
       "      <td>40.712278</td>\n",
       "      <td>1</td>\n",
       "    </tr>\n",
       "    <tr>\n",
       "      <td>1</td>\n",
       "      <td>2010-01-05 16:52:16.0000002</td>\n",
       "      <td>16.9</td>\n",
       "      <td>2010-01-05 16:52:16</td>\n",
       "      <td>-74.016048</td>\n",
       "      <td>40.711303</td>\n",
       "      <td>-73.979268</td>\n",
       "      <td>40.782004</td>\n",
       "      <td>1</td>\n",
       "    </tr>\n",
       "    <tr>\n",
       "      <td>2</td>\n",
       "      <td>2011-08-18 00:35:00.00000049</td>\n",
       "      <td>5.7</td>\n",
       "      <td>2011-08-18 00:35:00</td>\n",
       "      <td>-73.982738</td>\n",
       "      <td>40.761270</td>\n",
       "      <td>-73.991242</td>\n",
       "      <td>40.750562</td>\n",
       "      <td>2</td>\n",
       "    </tr>\n",
       "    <tr>\n",
       "      <td>3</td>\n",
       "      <td>2012-04-21 04:30:42.0000001</td>\n",
       "      <td>7.7</td>\n",
       "      <td>2012-04-21 04:30:42</td>\n",
       "      <td>-73.987130</td>\n",
       "      <td>40.733143</td>\n",
       "      <td>-73.991567</td>\n",
       "      <td>40.758092</td>\n",
       "      <td>1</td>\n",
       "    </tr>\n",
       "    <tr>\n",
       "      <td>4</td>\n",
       "      <td>2010-03-09 07:51:00.000000135</td>\n",
       "      <td>5.3</td>\n",
       "      <td>2010-03-09 07:51:00</td>\n",
       "      <td>-73.968095</td>\n",
       "      <td>40.768008</td>\n",
       "      <td>-73.956655</td>\n",
       "      <td>40.783762</td>\n",
       "      <td>1</td>\n",
       "    </tr>\n",
       "  </tbody>\n",
       "</table>\n",
       "</div>"
      ],
      "text/plain": [
       "                             key  fare_amount     pickup_datetime  \\\n",
       "0    2009-06-15 17:26:21.0000001          4.5 2009-06-15 17:26:21   \n",
       "1    2010-01-05 16:52:16.0000002         16.9 2010-01-05 16:52:16   \n",
       "2   2011-08-18 00:35:00.00000049          5.7 2011-08-18 00:35:00   \n",
       "3    2012-04-21 04:30:42.0000001          7.7 2012-04-21 04:30:42   \n",
       "4  2010-03-09 07:51:00.000000135          5.3 2010-03-09 07:51:00   \n",
       "\n",
       "   pickup_longitude  pickup_latitude  dropoff_longitude  dropoff_latitude  \\\n",
       "0        -73.844311        40.721319         -73.841610         40.712278   \n",
       "1        -74.016048        40.711303         -73.979268         40.782004   \n",
       "2        -73.982738        40.761270         -73.991242         40.750562   \n",
       "3        -73.987130        40.733143         -73.991567         40.758092   \n",
       "4        -73.968095        40.768008         -73.956655         40.783762   \n",
       "\n",
       "   passenger_count  \n",
       "0                1  \n",
       "1                1  \n",
       "2                2  \n",
       "3                1  \n",
       "4                1  "
      ]
     },
     "execution_count": 3,
     "metadata": {},
     "output_type": "execute_result"
    }
   ],
   "source": [
    "#check df\n",
    "df.info()\n",
    "df.head()"
   ]
  },
  {
   "cell_type": "code",
   "execution_count": null,
   "metadata": {},
   "outputs": [],
   "source": []
  },
  {
   "cell_type": "code",
   "execution_count": 4,
   "metadata": {},
   "outputs": [
    {
     "data": {
      "text/html": [
       "<div>\n",
       "<style scoped>\n",
       "    .dataframe tbody tr th:only-of-type {\n",
       "        vertical-align: middle;\n",
       "    }\n",
       "\n",
       "    .dataframe tbody tr th {\n",
       "        vertical-align: top;\n",
       "    }\n",
       "\n",
       "    .dataframe thead th {\n",
       "        text-align: right;\n",
       "    }\n",
       "</style>\n",
       "<table border=\"1\" class=\"dataframe\">\n",
       "  <thead>\n",
       "    <tr style=\"text-align: right;\">\n",
       "      <th></th>\n",
       "      <th>fare_amount</th>\n",
       "      <th>pickup_datetime</th>\n",
       "      <th>pickup_longitude</th>\n",
       "      <th>pickup_latitude</th>\n",
       "      <th>dropoff_longitude</th>\n",
       "      <th>dropoff_latitude</th>\n",
       "      <th>passenger_count</th>\n",
       "    </tr>\n",
       "  </thead>\n",
       "  <tbody>\n",
       "    <tr>\n",
       "      <td>0</td>\n",
       "      <td>4.5</td>\n",
       "      <td>2009-06-15 17:26:21</td>\n",
       "      <td>-73.844311</td>\n",
       "      <td>40.721319</td>\n",
       "      <td>-73.841610</td>\n",
       "      <td>40.712278</td>\n",
       "      <td>1</td>\n",
       "    </tr>\n",
       "    <tr>\n",
       "      <td>1</td>\n",
       "      <td>16.9</td>\n",
       "      <td>2010-01-05 16:52:16</td>\n",
       "      <td>-74.016048</td>\n",
       "      <td>40.711303</td>\n",
       "      <td>-73.979268</td>\n",
       "      <td>40.782004</td>\n",
       "      <td>1</td>\n",
       "    </tr>\n",
       "    <tr>\n",
       "      <td>2</td>\n",
       "      <td>5.7</td>\n",
       "      <td>2011-08-18 00:35:00</td>\n",
       "      <td>-73.982738</td>\n",
       "      <td>40.761270</td>\n",
       "      <td>-73.991242</td>\n",
       "      <td>40.750562</td>\n",
       "      <td>2</td>\n",
       "    </tr>\n",
       "    <tr>\n",
       "      <td>3</td>\n",
       "      <td>7.7</td>\n",
       "      <td>2012-04-21 04:30:42</td>\n",
       "      <td>-73.987130</td>\n",
       "      <td>40.733143</td>\n",
       "      <td>-73.991567</td>\n",
       "      <td>40.758092</td>\n",
       "      <td>1</td>\n",
       "    </tr>\n",
       "    <tr>\n",
       "      <td>4</td>\n",
       "      <td>5.3</td>\n",
       "      <td>2010-03-09 07:51:00</td>\n",
       "      <td>-73.968095</td>\n",
       "      <td>40.768008</td>\n",
       "      <td>-73.956655</td>\n",
       "      <td>40.783762</td>\n",
       "      <td>1</td>\n",
       "    </tr>\n",
       "  </tbody>\n",
       "</table>\n",
       "</div>"
      ],
      "text/plain": [
       "   fare_amount     pickup_datetime  pickup_longitude  pickup_latitude  \\\n",
       "0          4.5 2009-06-15 17:26:21        -73.844311        40.721319   \n",
       "1         16.9 2010-01-05 16:52:16        -74.016048        40.711303   \n",
       "2          5.7 2011-08-18 00:35:00        -73.982738        40.761270   \n",
       "3          7.7 2012-04-21 04:30:42        -73.987130        40.733143   \n",
       "4          5.3 2010-03-09 07:51:00        -73.968095        40.768008   \n",
       "\n",
       "   dropoff_longitude  dropoff_latitude  passenger_count  \n",
       "0         -73.841610         40.712278                1  \n",
       "1         -73.979268         40.782004                1  \n",
       "2         -73.991242         40.750562                2  \n",
       "3         -73.991567         40.758092                1  \n",
       "4         -73.956655         40.783762                1  "
      ]
     },
     "execution_count": 4,
     "metadata": {},
     "output_type": "execute_result"
    }
   ],
   "source": [
    "# drop key\n",
    "df.drop('key', axis=1, inplace=True)\n",
    "df.head()\n"
   ]
  },
  {
   "cell_type": "code",
   "execution_count": 5,
   "metadata": {},
   "outputs": [],
   "source": [
    "#create distance traveled feature\n",
    "df['distance'] = (np.abs(df['pickup_latitude'] - df['dropoff_latitude']) + np.abs(df['pickup_longitude'] - df['dropoff_longitude']))"
   ]
  },
  {
   "cell_type": "code",
   "execution_count": 6,
   "metadata": {},
   "outputs": [],
   "source": [
    "# this function will also be used with the test set below\n",
    "def select_within_boundingbox(df, BB):\n",
    "    return (df.pickup_longitude >= BB[0]) & (df.pickup_longitude <= BB[1]) & \\\n",
    "           (df.pickup_latitude >= BB[2]) & (df.pickup_latitude <= BB[3]) & \\\n",
    "           (df.dropoff_longitude >= BB[0]) & (df.dropoff_longitude <= BB[1]) & \\\n",
    "           (df.dropoff_latitude >= BB[2]) & (df.dropoff_latitude <= BB[3])\n",
    "            \n",
    "# load image of NYC map\n",
    "BB = (-74.5, -72.8, 40.5, 41.8)"
   ]
  },
  {
   "cell_type": "code",
   "execution_count": 7,
   "metadata": {},
   "outputs": [
    {
     "name": "stdout",
     "output_type": "stream",
     "text": [
      "Old size: 90000\n",
      "New size: 88091\n"
     ]
    }
   ],
   "source": [
    "\n",
    "\n",
    "print('Old size: %d' % len(df))\n",
    "df = df[select_within_boundingbox(df, BB)]\n",
    "print('New size: %d' % len(df))\n",
    "\n"
   ]
  },
  {
   "cell_type": "code",
   "execution_count": 8,
   "metadata": {},
   "outputs": [],
   "source": [
    "#remove fares rows with fares less than 1 and filter long lats\n",
    "df = df[(df.fare_amount > 1) & (df.fare_amount < 52)]\n",
    "# df = df[(df.pickup_longitude >= low_long) & (df.pickup_longitude <= high_long)]\n"
   ]
  },
  {
   "cell_type": "code",
   "execution_count": 9,
   "metadata": {},
   "outputs": [],
   "source": [
    "df['time'] = pd.DatetimeIndex(df['pickup_datetime']).hour"
   ]
  },
  {
   "cell_type": "code",
   "execution_count": 10,
   "metadata": {},
   "outputs": [],
   "source": [
    "df['year'] = pd.DatetimeIndex(df['pickup_datetime']).year"
   ]
  },
  {
   "cell_type": "code",
   "execution_count": 11,
   "metadata": {},
   "outputs": [],
   "source": [
    "df['day'] = df['pickup_datetime'].dt.dayofweek"
   ]
  },
  {
   "cell_type": "code",
   "execution_count": 12,
   "metadata": {},
   "outputs": [],
   "source": [
    "df['is_weekend'] = (df['day'] >= 5).astype(np.int)"
   ]
  },
  {
   "cell_type": "code",
   "execution_count": 13,
   "metadata": {},
   "outputs": [],
   "source": [
    "df.drop('pickup_datetime', axis=1, inplace=True)"
   ]
  },
  {
   "cell_type": "code",
   "execution_count": 14,
   "metadata": {},
   "outputs": [
    {
     "name": "stdout",
     "output_type": "stream",
     "text": [
      "<class 'pandas.core.frame.DataFrame'>\n",
      "Int64Index: 87063 entries, 0 to 89999\n",
      "Data columns (total 11 columns):\n",
      "fare_amount          87063 non-null float64\n",
      "pickup_longitude     87063 non-null float64\n",
      "pickup_latitude      87063 non-null float64\n",
      "dropoff_longitude    87063 non-null float64\n",
      "dropoff_latitude     87063 non-null float64\n",
      "passenger_count      87063 non-null int64\n",
      "distance             87063 non-null float64\n",
      "time                 87063 non-null int64\n",
      "year                 87063 non-null int64\n",
      "day                  87063 non-null int64\n",
      "is_weekend           87063 non-null int64\n",
      "dtypes: float64(6), int64(5)\n",
      "memory usage: 8.0 MB\n"
     ]
    }
   ],
   "source": [
    "# define used cols\n",
    "used_cols = [c for c in df.columns.tolist() if c not in target]\n",
    "# used_cols = ['distance', 'day', 'time', 'year']\n",
    "df.info()"
   ]
  },
  {
   "cell_type": "code",
   "execution_count": 15,
   "metadata": {},
   "outputs": [
    {
     "data": {
      "text/plain": [
       "<matplotlib.axes._subplots.AxesSubplot at 0x1a29306be0>"
      ]
     },
     "execution_count": 15,
     "metadata": {},
     "output_type": "execute_result"
    },
    {
     "data": {
      "image/png": "[encoded data removed]",
      "text/plain": [
       "<Figure size 432x288 with 1 Axes>"
      ]
     },
     "metadata": {
      "needs_background": "light"
     },
     "output_type": "display_data"
    }
   ],
   "source": [
    "df['pickup_latitude'].hist()"
   ]
  },
  {
   "cell_type": "code",
   "execution_count": 16,
   "metadata": {},
   "outputs": [],
   "source": [
    "# pd.plotting.scatter_matrix(df,n_jobs=-1)"
   ]
  },
  {
   "cell_type": "code",
   "execution_count": 17,
   "metadata": {},
   "outputs": [
    {
     "data": {
      "text/html": [
       "<div>\n",
       "<style scoped>\n",
       "    .dataframe tbody tr th:only-of-type {\n",
       "        vertical-align: middle;\n",
       "    }\n",
       "\n",
       "    .dataframe tbody tr th {\n",
       "        vertical-align: top;\n",
       "    }\n",
       "\n",
       "    .dataframe thead th {\n",
       "        text-align: right;\n",
       "    }\n",
       "</style>\n",
       "<table border=\"1\" class=\"dataframe\">\n",
       "  <thead>\n",
       "    <tr style=\"text-align: right;\">\n",
       "      <th></th>\n",
       "      <th>fare_amount</th>\n",
       "      <th>pickup_longitude</th>\n",
       "      <th>pickup_latitude</th>\n",
       "      <th>dropoff_longitude</th>\n",
       "      <th>dropoff_latitude</th>\n",
       "      <th>passenger_count</th>\n",
       "      <th>distance</th>\n",
       "      <th>time</th>\n",
       "      <th>year</th>\n",
       "      <th>day</th>\n",
       "      <th>is_weekend</th>\n",
       "    </tr>\n",
       "  </thead>\n",
       "  <tbody>\n",
       "    <tr>\n",
       "      <td>count</td>\n",
       "      <td>87063.000000</td>\n",
       "      <td>87063.000000</td>\n",
       "      <td>87063.000000</td>\n",
       "      <td>87063.000000</td>\n",
       "      <td>87063.000000</td>\n",
       "      <td>87063.000000</td>\n",
       "      <td>87063.000000</td>\n",
       "      <td>87063.000000</td>\n",
       "      <td>87063.000000</td>\n",
       "      <td>87063.00000</td>\n",
       "      <td>87063.000000</td>\n",
       "    </tr>\n",
       "    <tr>\n",
       "      <td>mean</td>\n",
       "      <td>10.743687</td>\n",
       "      <td>-73.975985</td>\n",
       "      <td>40.751684</td>\n",
       "      <td>-73.974438</td>\n",
       "      <td>40.752049</td>\n",
       "      <td>1.672858</td>\n",
       "      <td>0.041803</td>\n",
       "      <td>13.494332</td>\n",
       "      <td>2011.725245</td>\n",
       "      <td>3.03471</td>\n",
       "      <td>0.282910</td>\n",
       "    </tr>\n",
       "    <tr>\n",
       "      <td>std</td>\n",
       "      <td>7.836605</td>\n",
       "      <td>0.036000</td>\n",
       "      <td>0.028959</td>\n",
       "      <td>0.034692</td>\n",
       "      <td>0.032075</td>\n",
       "      <td>1.299141</td>\n",
       "      <td>0.047573</td>\n",
       "      <td>6.514805</td>\n",
       "      <td>1.866494</td>\n",
       "      <td>1.95123</td>\n",
       "      <td>0.450416</td>\n",
       "    </tr>\n",
       "    <tr>\n",
       "      <td>min</td>\n",
       "      <td>2.500000</td>\n",
       "      <td>-74.356127</td>\n",
       "      <td>40.509960</td>\n",
       "      <td>-74.339372</td>\n",
       "      <td>40.505648</td>\n",
       "      <td>0.000000</td>\n",
       "      <td>0.000000</td>\n",
       "      <td>0.000000</td>\n",
       "      <td>2009.000000</td>\n",
       "      <td>0.00000</td>\n",
       "      <td>0.000000</td>\n",
       "    </tr>\n",
       "    <tr>\n",
       "      <td>25%</td>\n",
       "      <td>6.000000</td>\n",
       "      <td>-73.992278</td>\n",
       "      <td>40.736940</td>\n",
       "      <td>-73.991377</td>\n",
       "      <td>40.736240</td>\n",
       "      <td>1.000000</td>\n",
       "      <td>0.016310</td>\n",
       "      <td>9.000000</td>\n",
       "      <td>2010.000000</td>\n",
       "      <td>1.00000</td>\n",
       "      <td>0.000000</td>\n",
       "    </tr>\n",
       "    <tr>\n",
       "      <td>50%</td>\n",
       "      <td>8.500000</td>\n",
       "      <td>-73.982132</td>\n",
       "      <td>40.753661</td>\n",
       "      <td>-73.980479</td>\n",
       "      <td>40.754186</td>\n",
       "      <td>1.000000</td>\n",
       "      <td>0.027849</td>\n",
       "      <td>14.000000</td>\n",
       "      <td>2012.000000</td>\n",
       "      <td>3.00000</td>\n",
       "      <td>0.000000</td>\n",
       "    </tr>\n",
       "    <tr>\n",
       "      <td>75%</td>\n",
       "      <td>12.500000</td>\n",
       "      <td>-73.968592</td>\n",
       "      <td>40.767804</td>\n",
       "      <td>-73.965417</td>\n",
       "      <td>40.768617</td>\n",
       "      <td>2.000000</td>\n",
       "      <td>0.049944</td>\n",
       "      <td>19.000000</td>\n",
       "      <td>2013.000000</td>\n",
       "      <td>5.00000</td>\n",
       "      <td>1.000000</td>\n",
       "    </tr>\n",
       "    <tr>\n",
       "      <td>max</td>\n",
       "      <td>51.830000</td>\n",
       "      <td>-72.856968</td>\n",
       "      <td>41.692428</td>\n",
       "      <td>-72.854940</td>\n",
       "      <td>41.714633</td>\n",
       "      <td>6.000000</td>\n",
       "      <td>1.537858</td>\n",
       "      <td>23.000000</td>\n",
       "      <td>2015.000000</td>\n",
       "      <td>6.00000</td>\n",
       "      <td>1.000000</td>\n",
       "    </tr>\n",
       "  </tbody>\n",
       "</table>\n",
       "</div>"
      ],
      "text/plain": [
       "        fare_amount  pickup_longitude  pickup_latitude  dropoff_longitude  \\\n",
       "count  87063.000000      87063.000000     87063.000000       87063.000000   \n",
       "mean      10.743687        -73.975985        40.751684         -73.974438   \n",
       "std        7.836605          0.036000         0.028959           0.034692   \n",
       "min        2.500000        -74.356127        40.509960         -74.339372   \n",
       "25%        6.000000        -73.992278        40.736940         -73.991377   \n",
       "50%        8.500000        -73.982132        40.753661         -73.980479   \n",
       "75%       12.500000        -73.968592        40.767804         -73.965417   \n",
       "max       51.830000        -72.856968        41.692428         -72.854940   \n",
       "\n",
       "       dropoff_latitude  passenger_count      distance          time  \\\n",
       "count      87063.000000     87063.000000  87063.000000  87063.000000   \n",
       "mean          40.752049         1.672858      0.041803     13.494332   \n",
       "std            0.032075         1.299141      0.047573      6.514805   \n",
       "min           40.505648         0.000000      0.000000      0.000000   \n",
       "25%           40.736240         1.000000      0.016310      9.000000   \n",
       "50%           40.754186         1.000000      0.027849     14.000000   \n",
       "75%           40.768617         2.000000      0.049944     19.000000   \n",
       "max           41.714633         6.000000      1.537858     23.000000   \n",
       "\n",
       "               year          day    is_weekend  \n",
       "count  87063.000000  87063.00000  87063.000000  \n",
       "mean    2011.725245      3.03471      0.282910  \n",
       "std        1.866494      1.95123      0.450416  \n",
       "min     2009.000000      0.00000      0.000000  \n",
       "25%     2010.000000      1.00000      0.000000  \n",
       "50%     2012.000000      3.00000      0.000000  \n",
       "75%     2013.000000      5.00000      1.000000  \n",
       "max     2015.000000      6.00000      1.000000  "
      ]
     },
     "execution_count": 17,
     "metadata": {},
     "output_type": "execute_result"
    }
   ],
   "source": [
    "\n",
    "df.describe()"
   ]
  },
  {
   "cell_type": "code",
   "execution_count": 18,
   "metadata": {},
   "outputs": [],
   "source": [
    "# for i in used_cols:\n",
    "#     sns.regplot(x=i, y=target, data=df)\n",
    "#     sns.jointplot(x=i, y=target, data=df)\n",
    "#     plt.show()"
   ]
  },
  {
   "cell_type": "code",
   "execution_count": 19,
   "metadata": {},
   "outputs": [
    {
     "data": {
      "text/html": [
       "<div>\n",
       "<style scoped>\n",
       "    .dataframe tbody tr th:only-of-type {\n",
       "        vertical-align: middle;\n",
       "    }\n",
       "\n",
       "    .dataframe tbody tr th {\n",
       "        vertical-align: top;\n",
       "    }\n",
       "\n",
       "    .dataframe thead th {\n",
       "        text-align: right;\n",
       "    }\n",
       "</style>\n",
       "<table border=\"1\" class=\"dataframe\">\n",
       "  <thead>\n",
       "    <tr style=\"text-align: right;\">\n",
       "      <th></th>\n",
       "      <th>fare_amount</th>\n",
       "      <th>pickup_longitude</th>\n",
       "      <th>pickup_latitude</th>\n",
       "      <th>dropoff_longitude</th>\n",
       "      <th>dropoff_latitude</th>\n",
       "      <th>passenger_count</th>\n",
       "      <th>distance</th>\n",
       "      <th>time</th>\n",
       "      <th>year</th>\n",
       "      <th>day</th>\n",
       "      <th>is_weekend</th>\n",
       "      <th>log_distance</th>\n",
       "    </tr>\n",
       "  </thead>\n",
       "  <tbody>\n",
       "    <tr>\n",
       "      <td>0</td>\n",
       "      <td>4.5</td>\n",
       "      <td>-73.844311</td>\n",
       "      <td>40.721319</td>\n",
       "      <td>-73.841610</td>\n",
       "      <td>40.712278</td>\n",
       "      <td>1</td>\n",
       "      <td>0.011742</td>\n",
       "      <td>17</td>\n",
       "      <td>2009</td>\n",
       "      <td>0</td>\n",
       "      <td>0</td>\n",
       "      <td>0.011674</td>\n",
       "    </tr>\n",
       "    <tr>\n",
       "      <td>1</td>\n",
       "      <td>16.9</td>\n",
       "      <td>-74.016048</td>\n",
       "      <td>40.711303</td>\n",
       "      <td>-73.979268</td>\n",
       "      <td>40.782004</td>\n",
       "      <td>1</td>\n",
       "      <td>0.107481</td>\n",
       "      <td>16</td>\n",
       "      <td>2010</td>\n",
       "      <td>1</td>\n",
       "      <td>0</td>\n",
       "      <td>0.102088</td>\n",
       "    </tr>\n",
       "    <tr>\n",
       "      <td>2</td>\n",
       "      <td>5.7</td>\n",
       "      <td>-73.982738</td>\n",
       "      <td>40.761270</td>\n",
       "      <td>-73.991242</td>\n",
       "      <td>40.750562</td>\n",
       "      <td>2</td>\n",
       "      <td>0.019212</td>\n",
       "      <td>0</td>\n",
       "      <td>2011</td>\n",
       "      <td>3</td>\n",
       "      <td>0</td>\n",
       "      <td>0.019030</td>\n",
       "    </tr>\n",
       "    <tr>\n",
       "      <td>3</td>\n",
       "      <td>7.7</td>\n",
       "      <td>-73.987130</td>\n",
       "      <td>40.733143</td>\n",
       "      <td>-73.991567</td>\n",
       "      <td>40.758092</td>\n",
       "      <td>1</td>\n",
       "      <td>0.029386</td>\n",
       "      <td>4</td>\n",
       "      <td>2012</td>\n",
       "      <td>5</td>\n",
       "      <td>1</td>\n",
       "      <td>0.028963</td>\n",
       "    </tr>\n",
       "    <tr>\n",
       "      <td>4</td>\n",
       "      <td>5.3</td>\n",
       "      <td>-73.968095</td>\n",
       "      <td>40.768008</td>\n",
       "      <td>-73.956655</td>\n",
       "      <td>40.783762</td>\n",
       "      <td>1</td>\n",
       "      <td>0.027194</td>\n",
       "      <td>7</td>\n",
       "      <td>2010</td>\n",
       "      <td>1</td>\n",
       "      <td>0</td>\n",
       "      <td>0.026831</td>\n",
       "    </tr>\n",
       "    <tr>\n",
       "      <td>...</td>\n",
       "      <td>...</td>\n",
       "      <td>...</td>\n",
       "      <td>...</td>\n",
       "      <td>...</td>\n",
       "      <td>...</td>\n",
       "      <td>...</td>\n",
       "      <td>...</td>\n",
       "      <td>...</td>\n",
       "      <td>...</td>\n",
       "      <td>...</td>\n",
       "      <td>...</td>\n",
       "      <td>...</td>\n",
       "    </tr>\n",
       "    <tr>\n",
       "      <td>89994</td>\n",
       "      <td>8.5</td>\n",
       "      <td>-74.008082</td>\n",
       "      <td>40.712126</td>\n",
       "      <td>-73.987247</td>\n",
       "      <td>40.750575</td>\n",
       "      <td>3</td>\n",
       "      <td>0.059284</td>\n",
       "      <td>1</td>\n",
       "      <td>2012</td>\n",
       "      <td>4</td>\n",
       "      <td>0</td>\n",
       "      <td>0.057593</td>\n",
       "    </tr>\n",
       "    <tr>\n",
       "      <td>89995</td>\n",
       "      <td>6.0</td>\n",
       "      <td>-73.981823</td>\n",
       "      <td>40.755288</td>\n",
       "      <td>-73.971944</td>\n",
       "      <td>40.760342</td>\n",
       "      <td>1</td>\n",
       "      <td>0.014933</td>\n",
       "      <td>21</td>\n",
       "      <td>2014</td>\n",
       "      <td>4</td>\n",
       "      <td>0</td>\n",
       "      <td>0.014823</td>\n",
       "    </tr>\n",
       "    <tr>\n",
       "      <td>89997</td>\n",
       "      <td>6.9</td>\n",
       "      <td>-73.958400</td>\n",
       "      <td>40.800849</td>\n",
       "      <td>-73.953479</td>\n",
       "      <td>40.820304</td>\n",
       "      <td>1</td>\n",
       "      <td>0.024376</td>\n",
       "      <td>4</td>\n",
       "      <td>2010</td>\n",
       "      <td>6</td>\n",
       "      <td>1</td>\n",
       "      <td>0.024084</td>\n",
       "    </tr>\n",
       "    <tr>\n",
       "      <td>89998</td>\n",
       "      <td>4.0</td>\n",
       "      <td>-73.974650</td>\n",
       "      <td>40.755904</td>\n",
       "      <td>-73.969536</td>\n",
       "      <td>40.758718</td>\n",
       "      <td>1</td>\n",
       "      <td>0.007928</td>\n",
       "      <td>9</td>\n",
       "      <td>2013</td>\n",
       "      <td>2</td>\n",
       "      <td>0</td>\n",
       "      <td>0.007897</td>\n",
       "    </tr>\n",
       "    <tr>\n",
       "      <td>89999</td>\n",
       "      <td>9.7</td>\n",
       "      <td>-73.953337</td>\n",
       "      <td>40.790967</td>\n",
       "      <td>-73.957735</td>\n",
       "      <td>40.765570</td>\n",
       "      <td>1</td>\n",
       "      <td>0.029795</td>\n",
       "      <td>10</td>\n",
       "      <td>2010</td>\n",
       "      <td>3</td>\n",
       "      <td>0</td>\n",
       "      <td>0.029360</td>\n",
       "    </tr>\n",
       "  </tbody>\n",
       "</table>\n",
       "<p>87063 rows × 12 columns</p>\n",
       "</div>"
      ],
      "text/plain": [
       "       fare_amount  pickup_longitude  pickup_latitude  dropoff_longitude  \\\n",
       "0              4.5        -73.844311        40.721319         -73.841610   \n",
       "1             16.9        -74.016048        40.711303         -73.979268   \n",
       "2              5.7        -73.982738        40.761270         -73.991242   \n",
       "3              7.7        -73.987130        40.733143         -73.991567   \n",
       "4              5.3        -73.968095        40.768008         -73.956655   \n",
       "...            ...               ...              ...                ...   \n",
       "89994          8.5        -74.008082        40.712126         -73.987247   \n",
       "89995          6.0        -73.981823        40.755288         -73.971944   \n",
       "89997          6.9        -73.958400        40.800849         -73.953479   \n",
       "89998          4.0        -73.974650        40.755904         -73.969536   \n",
       "89999          9.7        -73.953337        40.790967         -73.957735   \n",
       "\n",
       "       dropoff_latitude  passenger_count  distance  time  year  day  \\\n",
       "0             40.712278                1  0.011742    17  2009    0   \n",
       "1             40.782004                1  0.107481    16  2010    1   \n",
       "2             40.750562                2  0.019212     0  2011    3   \n",
       "3             40.758092                1  0.029386     4  2012    5   \n",
       "4             40.783762                1  0.027194     7  2010    1   \n",
       "...                 ...              ...       ...   ...   ...  ...   \n",
       "89994         40.750575                3  0.059284     1  2012    4   \n",
       "89995         40.760342                1  0.014933    21  2014    4   \n",
       "89997         40.820304                1  0.024376     4  2010    6   \n",
       "89998         40.758718                1  0.007928     9  2013    2   \n",
       "89999         40.765570                1  0.029795    10  2010    3   \n",
       "\n",
       "       is_weekend  log_distance  \n",
       "0               0      0.011674  \n",
       "1               0      0.102088  \n",
       "2               0      0.019030  \n",
       "3               1      0.028963  \n",
       "4               0      0.026831  \n",
       "...           ...           ...  \n",
       "89994           0      0.057593  \n",
       "89995           0      0.014823  \n",
       "89997           1      0.024084  \n",
       "89998           0      0.007897  \n",
       "89999           0      0.029360  \n",
       "\n",
       "[87063 rows x 12 columns]"
      ]
     },
     "execution_count": 19,
     "metadata": {},
     "output_type": "execute_result"
    }
   ],
   "source": [
    "#transforming target and distance\n",
    "# df['log_target'] = np.log1p(df['fare_amount'])\n",
    "target = 'fare_amount'\n",
    "df['log_distance'] = np.log1p(df['distance'])\n",
    "df"
   ]
  },
  {
   "cell_type": "code",
   "execution_count": null,
   "metadata": {},
   "outputs": [],
   "source": []
  },
  {
   "cell_type": "code",
   "execution_count": 20,
   "metadata": {},
   "outputs": [],
   "source": [
    "criteon = ('rss', 'nb_subsets')\n",
    "lr = LinearRegression(n_jobs=-1)\n",
    "poly = PolynomialFeatures(degree=2)\n",
    "scaler = RobustScaler()\n",
    "lor = LogisticRegression()\n",
    "Ridge = linear_model.BayesianRidge(compute_score=True)\n",
    "lasso = linear_model.Lasso()\n",
    "mars = Earth(max_degree=4, feature_importance_type=criteon)\n",
    "pipe = make_pipeline(scaler, mars)\n",
    "\n",
    "\n",
    "# scores = cross_val_score(pipe, df[used_cols], df[target], cv=5, scoring='r2')\n",
    "# scores = cross_val_score(pipe, df[used_cols], df[target], cv=5, scoring='neg_mean_absolute_error')\n",
    "# scores = cross_val_score(pipe, df[used_cols], df[target], cv=5, scoring='neg_mean_squared_error')\n",
    "# print(np.sqrt(-scores.mean()), \"+/-\", np.sqrt(scores.std()))\n",
    "X, y = df[used_cols], df[target]\n",
    "# X = df[used_cols]"
   ]
  },
  {
   "cell_type": "code",
   "execution_count": 21,
   "metadata": {},
   "outputs": [],
   "source": [
    "SIZE = (20,8)\n",
    "\n",
    "\n",
    "def analysis(pipe):\n",
    "    scores = cross_val_score(pipe, X, y, cv=5)\n",
    "    print()\n",
    "    print(\"\\tR^2:\", scores.mean(), \" +/- \", scores.std())\n",
    "\n",
    "    scores = cross_val_score(pipe, X, y, cv=5, scoring='neg_mean_squared_error')\n",
    "    print(\"\\tRMSE:\", np.sqrt(-scores.mean()), \" +/- \", np.sqrt(scores.std()))\n",
    "    print()\n",
    "\n",
    "    y_pred = cross_val_predict(pipe, X, y, cv=5)\n",
    "\n",
    "#     plt.figure(figsize=SIZE)\n",
    "#     sns.scatterplot(y_pred, (y - y_pred))\n",
    "#     sns.lineplot(y_pred, [0]*len(y_pred), color='orange')\n",
    "#     plt.xlabel(\"Predicted\")\n",
    "#     plt.ylabel(\"Residual\")\n",
    "#     plt.show()\n",
    "    \n",
    "#     plt.figure(figsize=SIZE)\n",
    "#     plt.hist(y - y_pred, bins=20)\n",
    "#     plt.show()\n",
    "\n",
    "    \n",
    "def run_test(model):\n",
    "    scale = RobustScaler()\n",
    "    \n",
    "    tags = [\"\", \" w/ Poly (deg 2)\"]\n",
    "    \n",
    "    for tag in tags:\n",
    "        if tag == \"\":\n",
    "            pipe = make_pipeline(scale, model)\n",
    "        elif \"2\" in tag:\n",
    "            poly = PolynomialFeatures(2)\n",
    "            pipe = make_pipeline(poly, scale, model)\n",
    "    \n",
    "        try:\n",
    "            print(\"Vanilla\"+tag+\":\")\n",
    "            analysis(pipe)\n",
    "        except:\n",
    "            pass\n",
    "\n",
    "        try:\n",
    "            print(\"Target-Normalized\"+tag+\":\")\n",
    "            transformer = QuantileTransformer(n_quantiles=20, output_distribution='normal')\n",
    "            tpipe = TransformedTargetRegressor(regressor=pipe,\n",
    "                                               transformer=transformer)\n",
    "            analysis(tpipe)\n",
    "        except:\n",
    "            pass\n",
    "        \n",
    "        try:\n",
    "            print(\"Target-Logged\"+tag+\":\")\n",
    "            tpipe = TransformedTargetRegressor(regressor=pipe,\n",
    "                                               func=np.log1p, \n",
    "                                               inverse_func=np.expm1)\n",
    "            analysis(tpipe)\n",
    "        except:\n",
    "            pass"
   ]
  },
  {
   "cell_type": "code",
   "execution_count": 22,
   "metadata": {},
   "outputs": [],
   "source": [
    "\n",
    "# run_test(mars)"
   ]
  },
  {
   "cell_type": "code",
   "execution_count": 23,
   "metadata": {},
   "outputs": [
    {
     "ename": "AttributeError",
     "evalue": "'Earth' object has no attribute '_feature_importances_dict'",
     "output_type": "error",
     "traceback": [
      "\u001b[0;31m---------------------------------------------------------------------------\u001b[0m",
      "\u001b[0;31mAttributeError\u001b[0m                            Traceback (most recent call last)",
      "\u001b[0;32m<ipython-input-23-a2d70c685166>\u001b[0m in \u001b[0;36m<module>\u001b[0;34m\u001b[0m\n\u001b[0;32m----> 1\u001b[0;31m \u001b[0mprint\u001b[0m\u001b[0;34m(\u001b[0m\u001b[0mmars\u001b[0m\u001b[0;34m.\u001b[0m\u001b[0msummary_feature_importances\u001b[0m\u001b[0;34m(\u001b[0m\u001b[0;34m)\u001b[0m\u001b[0;34m)\u001b[0m\u001b[0;34m\u001b[0m\u001b[0;34m\u001b[0m\u001b[0m\n\u001b[0m",
      "\u001b[0;32m~/opt/anaconda3/envs/learn-env/lib/python3.6/site-packages/pyearth/earth.py\u001b[0m in \u001b[0;36msummary_feature_importances\u001b[0;34m(self, sort_by)\u001b[0m\n\u001b[1;32m    944\u001b[0m         \"\"\"\n\u001b[1;32m    945\u001b[0m         \u001b[0mresult\u001b[0m \u001b[0;34m=\u001b[0m \u001b[0;34m''\u001b[0m\u001b[0;34m\u001b[0m\u001b[0;34m\u001b[0m\u001b[0m\n\u001b[0;32m--> 946\u001b[0;31m         \u001b[0;32mif\u001b[0m \u001b[0mself\u001b[0m\u001b[0;34m.\u001b[0m\u001b[0m_feature_importances_dict\u001b[0m\u001b[0;34m:\u001b[0m\u001b[0;34m\u001b[0m\u001b[0;34m\u001b[0m\u001b[0m\n\u001b[0m\u001b[1;32m    947\u001b[0m             \u001b[0mmax_label_length\u001b[0m \u001b[0;34m=\u001b[0m \u001b[0mmax\u001b[0m\u001b[0;34m(\u001b[0m\u001b[0mmap\u001b[0m\u001b[0;34m(\u001b[0m\u001b[0mlen\u001b[0m\u001b[0;34m,\u001b[0m \u001b[0mself\u001b[0m\u001b[0;34m.\u001b[0m\u001b[0mxlabels_\u001b[0m\u001b[0;34m)\u001b[0m\u001b[0;34m)\u001b[0m \u001b[0;34m+\u001b[0m \u001b[0;36m5\u001b[0m\u001b[0;34m\u001b[0m\u001b[0;34m\u001b[0m\u001b[0m\n\u001b[1;32m    948\u001b[0m             result += (max_label_length * ' ' +\n",
      "\u001b[0;31mAttributeError\u001b[0m: 'Earth' object has no attribute '_feature_importances_dict'"
     ]
    }
   ],
   "source": [
    "print(mars.summary_feature_importances())"
   ]
  },
  {
   "cell_type": "code",
   "execution_count": null,
   "metadata": {},
   "outputs": [],
   "source": [
    "df"
   ]
  },
  {
   "cell_type": "code",
   "execution_count": null,
   "metadata": {},
   "outputs": [],
   "source": [
    "df['is_weekend'] = (df['day'] >= 5).astype(np.int)"
   ]
  },
  {
   "cell_type": "code",
   "execution_count": null,
   "metadata": {},
   "outputs": [],
   "source": [
    "df"
   ]
  },
  {
   "cell_type": "code",
   "execution_count": null,
   "metadata": {},
   "outputs": [],
   "source": [
    "df.describe()"
   ]
  },
  {
   "cell_type": "code",
   "execution_count": null,
   "metadata": {},
   "outputs": [],
   "source": [
    "lr"
   ]
  },
  {
   "cell_type": "code",
   "execution_count": null,
   "metadata": {},
   "outputs": [],
   "source": [
    "# pipe.fit(X,y)"
   ]
  },
  {
   "cell_type": "code",
   "execution_count": null,
   "metadata": {},
   "outputs": [],
   "source": [
    "pipe.get_params()"
   ]
  },
  {
   "cell_type": "code",
   "execution_count": null,
   "metadata": {},
   "outputs": [],
   "source": []
  },
  {
   "cell_type": "code",
   "execution_count": 27,
   "metadata": {},
   "outputs": [],
   "source": [
    "df_test = pd.read_csv('test.csv', parse_dates=['pickup_datetime'], infer_datetime_format=True) \n"
   ]
  },
  {
   "cell_type": "code",
   "execution_count": 28,
   "metadata": {},
   "outputs": [],
   "source": [
    "# df_test.drop('key', axis=1, inplace=True)\n",
    "df_test['distance'] = (np.abs(df_test['pickup_latitude'] - df_test['dropoff_latitude']) + np.abs(df_test['pickup_longitude'] - df_test['dropoff_longitude']))\n"
   ]
  },
  {
   "cell_type": "code",
   "execution_count": 29,
   "metadata": {},
   "outputs": [],
   "source": [
    "df_test['time'] = pd.DatetimeIndex(df_test['pickup_datetime']).hour"
   ]
  },
  {
   "cell_type": "code",
   "execution_count": 30,
   "metadata": {},
   "outputs": [],
   "source": [
    "df_test['year'] = pd.DatetimeIndex(df_test['pickup_datetime']).year"
   ]
  },
  {
   "cell_type": "code",
   "execution_count": 31,
   "metadata": {},
   "outputs": [],
   "source": [
    "df_test['day'] = df_test['pickup_datetime'].dt.dayofweek"
   ]
  },
  {
   "cell_type": "code",
   "execution_count": null,
   "metadata": {},
   "outputs": [],
   "source": [
    "# df_test['log_distance'] = np.log1p(df_test['distance'])\n"
   ]
  },
  {
   "cell_type": "code",
   "execution_count": 34,
   "metadata": {},
   "outputs": [],
   "source": [
    "df_test['is_weekend'] = (df_test['day'] >= 5).astype(np.int)"
   ]
  },
  {
   "cell_type": "code",
   "execution_count": 32,
   "metadata": {},
   "outputs": [
    {
     "name": "stdout",
     "output_type": "stream",
     "text": [
      "<class 'pandas.core.frame.DataFrame'>\n",
      "Int64Index: 87063 entries, 0 to 89999\n",
      "Data columns (total 12 columns):\n",
      "fare_amount          87063 non-null float64\n",
      "pickup_longitude     87063 non-null float64\n",
      "pickup_latitude      87063 non-null float64\n",
      "dropoff_longitude    87063 non-null float64\n",
      "dropoff_latitude     87063 non-null float64\n",
      "passenger_count      87063 non-null int64\n",
      "distance             87063 non-null float64\n",
      "time                 87063 non-null int64\n",
      "year                 87063 non-null int64\n",
      "day                  87063 non-null int64\n",
      "is_weekend           87063 non-null int64\n",
      "log_distance         87063 non-null float64\n",
      "dtypes: float64(7), int64(5)\n",
      "memory usage: 8.6 MB\n"
     ]
    }
   ],
   "source": [
    "\n",
    "df.info()"
   ]
  },
  {
   "cell_type": "code",
   "execution_count": 35,
   "metadata": {},
   "outputs": [
    {
     "name": "stdout",
     "output_type": "stream",
     "text": [
      "<class 'pandas.core.frame.DataFrame'>\n",
      "RangeIndex: 9914 entries, 0 to 9913\n",
      "Data columns (total 12 columns):\n",
      "key                  9914 non-null object\n",
      "pickup_datetime      9914 non-null datetime64[ns]\n",
      "pickup_longitude     9914 non-null float64\n",
      "pickup_latitude      9914 non-null float64\n",
      "dropoff_longitude    9914 non-null float64\n",
      "dropoff_latitude     9914 non-null float64\n",
      "passenger_count      9914 non-null int64\n",
      "distance             9914 non-null float64\n",
      "time                 9914 non-null int64\n",
      "year                 9914 non-null int64\n",
      "day                  9914 non-null int64\n",
      "is_weekend           9914 non-null int64\n",
      "dtypes: datetime64[ns](1), float64(5), int64(5), object(1)\n",
      "memory usage: 929.6+ KB\n"
     ]
    }
   ],
   "source": [
    "df_test.info()"
   ]
  },
  {
   "cell_type": "code",
   "execution_count": 36,
   "metadata": {},
   "outputs": [],
   "source": [
    "y_preds = mars.predict(df_test[used_cols])"
   ]
  },
  {
   "cell_type": "code",
   "execution_count": 37,
   "metadata": {},
   "outputs": [
    {
     "data": {
      "text/plain": [
       "array([ 9.72741874, 11.09680737,  4.86731739, ..., 45.6676505 ,\n",
       "       23.18340736,  7.47714743])"
      ]
     },
     "execution_count": 37,
     "metadata": {},
     "output_type": "execute_result"
    }
   ],
   "source": [
    "y_preds"
   ]
  },
  {
   "cell_type": "code",
   "execution_count": 38,
   "metadata": {},
   "outputs": [],
   "source": [
    "df_sub = pd.DataFrame(df_test['key'])\n"
   ]
  },
  {
   "cell_type": "code",
   "execution_count": 39,
   "metadata": {},
   "outputs": [],
   "source": [
    "y_preds = pd.DataFrame(y_preds)"
   ]
  },
  {
   "cell_type": "code",
   "execution_count": 40,
   "metadata": {},
   "outputs": [
    {
     "data": {
      "text/html": [
       "<div>\n",
       "<style scoped>\n",
       "    .dataframe tbody tr th:only-of-type {\n",
       "        vertical-align: middle;\n",
       "    }\n",
       "\n",
       "    .dataframe tbody tr th {\n",
       "        vertical-align: top;\n",
       "    }\n",
       "\n",
       "    .dataframe thead th {\n",
       "        text-align: right;\n",
       "    }\n",
       "</style>\n",
       "<table border=\"1\" class=\"dataframe\">\n",
       "  <thead>\n",
       "    <tr style=\"text-align: right;\">\n",
       "      <th></th>\n",
       "      <th>0</th>\n",
       "    </tr>\n",
       "  </thead>\n",
       "  <tbody>\n",
       "    <tr>\n",
       "      <td>0</td>\n",
       "      <td>9.727419</td>\n",
       "    </tr>\n",
       "    <tr>\n",
       "      <td>1</td>\n",
       "      <td>11.096807</td>\n",
       "    </tr>\n",
       "    <tr>\n",
       "      <td>2</td>\n",
       "      <td>4.867317</td>\n",
       "    </tr>\n",
       "    <tr>\n",
       "      <td>3</td>\n",
       "      <td>8.139590</td>\n",
       "    </tr>\n",
       "    <tr>\n",
       "      <td>4</td>\n",
       "      <td>14.986630</td>\n",
       "    </tr>\n",
       "    <tr>\n",
       "      <td>...</td>\n",
       "      <td>...</td>\n",
       "    </tr>\n",
       "    <tr>\n",
       "      <td>9909</td>\n",
       "      <td>9.594972</td>\n",
       "    </tr>\n",
       "    <tr>\n",
       "      <td>9910</td>\n",
       "      <td>12.453585</td>\n",
       "    </tr>\n",
       "    <tr>\n",
       "      <td>9911</td>\n",
       "      <td>45.667651</td>\n",
       "    </tr>\n",
       "    <tr>\n",
       "      <td>9912</td>\n",
       "      <td>23.183407</td>\n",
       "    </tr>\n",
       "    <tr>\n",
       "      <td>9913</td>\n",
       "      <td>7.477147</td>\n",
       "    </tr>\n",
       "  </tbody>\n",
       "</table>\n",
       "<p>9914 rows × 1 columns</p>\n",
       "</div>"
      ],
      "text/plain": [
       "              0\n",
       "0      9.727419\n",
       "1     11.096807\n",
       "2      4.867317\n",
       "3      8.139590\n",
       "4     14.986630\n",
       "...         ...\n",
       "9909   9.594972\n",
       "9910  12.453585\n",
       "9911  45.667651\n",
       "9912  23.183407\n",
       "9913   7.477147\n",
       "\n",
       "[9914 rows x 1 columns]"
      ]
     },
     "execution_count": 40,
     "metadata": {},
     "output_type": "execute_result"
    }
   ],
   "source": [
    "y_preds"
   ]
  },
  {
   "cell_type": "code",
   "execution_count": 41,
   "metadata": {},
   "outputs": [],
   "source": [
    "df_sub['fare_amount'] = y_preds"
   ]
  },
  {
   "cell_type": "code",
   "execution_count": 42,
   "metadata": {},
   "outputs": [],
   "source": [
    "# df_sub.drop('fare_amount', axis=0, inplace=True)"
   ]
  },
  {
   "cell_type": "code",
   "execution_count": 43,
   "metadata": {},
   "outputs": [
    {
     "data": {
      "text/html": [
       "<div>\n",
       "<style scoped>\n",
       "    .dataframe tbody tr th:only-of-type {\n",
       "        vertical-align: middle;\n",
       "    }\n",
       "\n",
       "    .dataframe tbody tr th {\n",
       "        vertical-align: top;\n",
       "    }\n",
       "\n",
       "    .dataframe thead th {\n",
       "        text-align: right;\n",
       "    }\n",
       "</style>\n",
       "<table border=\"1\" class=\"dataframe\">\n",
       "  <thead>\n",
       "    <tr style=\"text-align: right;\">\n",
       "      <th></th>\n",
       "      <th>key</th>\n",
       "      <th>fare_amount</th>\n",
       "    </tr>\n",
       "  </thead>\n",
       "  <tbody>\n",
       "    <tr>\n",
       "      <td>9909</td>\n",
       "      <td>2015-05-10 12:37:51.0000002</td>\n",
       "      <td>9.594972</td>\n",
       "    </tr>\n",
       "    <tr>\n",
       "      <td>9910</td>\n",
       "      <td>2015-01-12 17:05:51.0000001</td>\n",
       "      <td>12.453585</td>\n",
       "    </tr>\n",
       "    <tr>\n",
       "      <td>9911</td>\n",
       "      <td>2015-04-19 20:44:15.0000001</td>\n",
       "      <td>45.667651</td>\n",
       "    </tr>\n",
       "    <tr>\n",
       "      <td>9912</td>\n",
       "      <td>2015-01-31 01:05:19.0000005</td>\n",
       "      <td>23.183407</td>\n",
       "    </tr>\n",
       "    <tr>\n",
       "      <td>9913</td>\n",
       "      <td>2015-01-18 14:06:23.0000006</td>\n",
       "      <td>7.477147</td>\n",
       "    </tr>\n",
       "  </tbody>\n",
       "</table>\n",
       "</div>"
      ],
      "text/plain": [
       "                              key  fare_amount\n",
       "9909  2015-05-10 12:37:51.0000002     9.594972\n",
       "9910  2015-01-12 17:05:51.0000001    12.453585\n",
       "9911  2015-04-19 20:44:15.0000001    45.667651\n",
       "9912  2015-01-31 01:05:19.0000005    23.183407\n",
       "9913  2015-01-18 14:06:23.0000006     7.477147"
      ]
     },
     "execution_count": 43,
     "metadata": {},
     "output_type": "execute_result"
    }
   ],
   "source": [
    "df_sub.tail()"
   ]
  },
  {
   "cell_type": "code",
   "execution_count": 44,
   "metadata": {},
   "outputs": [],
   "source": [
    "df_sub.to_csv('submission1.csv', index=False)"
   ]
  },
  {
   "cell_type": "code",
   "execution_count": null,
   "metadata": {},
   "outputs": [],
   "source": [
    "df_sub.shape"
   ]
  },
  {
   "cell_type": "code",
   "execution_count": null,
   "metadata": {},
   "outputs": [],
   "source": [
    "X"
   ]
  },
  {
   "cell_type": "code",
   "execution_count": 26,
   "metadata": {},
   "outputs": [
    {
     "data": {
      "text/plain": [
       "Earth(allow_linear=None, allow_missing=False, check_every=None,\n",
       "      enable_pruning=True, endspan=None, endspan_alpha=None, fast_K=None,\n",
       "      fast_h=None, feature_importance_type=('rss', 'nb_subsets'), max_degree=4,\n",
       "      max_terms=None, min_search_points=None, minspan=None, minspan_alpha=None,\n",
       "      penalty=None, smooth=None, thresh=None, use_fast=None, verbose=0,\n",
       "      zero_tol=None)"
      ]
     },
     "execution_count": 26,
     "metadata": {},
     "output_type": "execute_result"
    }
   ],
   "source": [
    "mars.fit(X,y)"
   ]
  },
  {
   "cell_type": "code",
   "execution_count": 33,
   "metadata": {},
   "outputs": [
    {
     "name": "stdout",
     "output_type": "stream",
     "text": [
      "Forward Pass\n",
      "------------------------------------------------------------------\n",
      "iter  parent  var  knot   mse        terms  gcv     rsq    grsq   \n",
      "------------------------------------------------------------------\n",
      "0     -       -    -      61.411670  1      61.413  0.000  0.000  \n",
      "1     0       5    32015  15.880254  3      15.882  0.741  0.741  \n",
      "2     2       5    57958  15.151306  5      15.155  0.753  0.753  \n",
      "3     3       7    -1     14.003851  6      14.008  0.772  0.772  \n",
      "4     5       0    17514  13.681466  8      13.687  0.777  0.777  \n",
      "5     0       3    58379  13.413532  10     13.421  0.782  0.781  \n",
      "6     3       5    43710  13.223363  12     13.232  0.785  0.785  \n",
      "7     5       2    41391  13.079385  14     13.089  0.787  0.787  \n",
      "8     3       0    55018  12.908350  16     12.920  0.790  0.790  \n",
      "9     15      2    30423  12.592462  18     12.605  0.795  0.795  \n",
      "10    8       1    54615  12.489539  20     12.503  0.797  0.796  \n",
      "11    14      2    3854   12.379022  22     12.394  0.798  0.798  \n",
      "12    9       1    71919  12.264970  24     12.281  0.800  0.800  \n",
      "13    4       5    44115  12.178009  26     12.196  0.802  0.801  \n",
      "14    2       0    36227  12.117170  28     12.136  0.803  0.802  \n",
      "------------------------------------------------------------------\n",
      "Stopping Condition 2: Improvement below threshold\n",
      "\n",
      "Pruning Pass\n",
      "----------------------------------------------\n",
      "iter  bf  terms  mse    gcv     rsq    grsq   \n",
      "----------------------------------------------\n",
      "0     -   28     12.12  12.136  0.803  0.802  \n",
      "1     8   27     12.12  12.136  0.803  0.802  \n",
      "2     17  26     12.12  12.135  0.803  0.802  \n",
      "3     20  25     12.12  12.135  0.803  0.802  \n",
      "4     23  24     12.12  12.136  0.803  0.802  \n",
      "5     27  23     12.12  12.140  0.803  0.802  \n",
      "6     6   22     12.14  12.151  0.802  0.802  \n",
      "7     15  21     12.14  12.150  0.802  0.802  \n",
      "8     7   20     12.14  12.151  0.802  0.802  \n",
      "9     11  19     12.16  12.173  0.802  0.802  \n",
      "10    18  18     12.19  12.198  0.802  0.801  \n",
      "11    9   17     12.22  12.236  0.801  0.801  \n",
      "12    24  16     12.27  12.280  0.800  0.800  \n",
      "13    25  15     12.32  12.331  0.799  0.799  \n",
      "14    26  14     12.37  12.384  0.798  0.798  \n",
      "15    14  13     12.42  12.431  0.798  0.798  \n",
      "16    12  12     12.44  12.448  0.797  0.797  \n",
      "17    13  11     12.52  12.528  0.796  0.796  \n",
      "18    1   10     12.62  12.632  0.794  0.794  \n",
      "19    19  9      12.80  12.803  0.792  0.792  \n",
      "20    22  8      13.13  13.136  0.786  0.786  \n",
      "21    10  7      13.53  13.539  0.780  0.780  \n",
      "22    16  6      13.74  13.741  0.776  0.776  \n",
      "23    21  5      14.14  14.141  0.770  0.770  \n",
      "24    4   4      14.85  14.852  0.758  0.758  \n",
      "25    3   3      16.00  16.004  0.739  0.739  \n",
      "26    5   2      16.06  16.063  0.738  0.738  \n",
      "27    2   1      61.41  61.413  0.000  0.000  \n",
      "----------------------------------------------\n",
      "Selected iteration: 3\n",
      "\n",
      "Earth Model\n",
      "----------------------------------------------------------------------------------------------------------------------------\n",
      "Basis Function                                                                                        Pruned  Coefficient   \n",
      "----------------------------------------------------------------------------------------------------------------------------\n",
      "(Intercept)                                                                                           No      40.5009       \n",
      "h(distance-0.263772)                                                                                  No      -19.9334      \n",
      "h(0.263772-distance)                                                                                  No      -140.735      \n",
      "h(distance-0.003685)*h(0.263772-distance)                                                             No      -154997       \n",
      "h(0.003685-distance)*h(0.263772-distance)                                                             No      11544         \n",
      "year*h(distance-0.003685)*h(0.263772-distance)                                                        No      88.9421       \n",
      "h(pickup_longitude+73.8629)*year*h(distance-0.003685)*h(0.263772-distance)                            No      169.056       \n",
      "h(-73.8629-pickup_longitude)*year*h(distance-0.003685)*h(0.263772-distance)                           No      -169.168      \n",
      "h(dropoff_latitude-40.6974)                                                                           Yes     None          \n",
      "h(40.6974-dropoff_latitude)                                                                           No      45.7053       \n",
      "h(distance-0.132797)*h(distance-0.003685)*h(0.263772-distance)                                        No      -9110.37      \n",
      "h(0.132797-distance)*h(distance-0.003685)*h(0.263772-distance)                                        No      997.263       \n",
      "h(dropoff_longitude+73.9401)*year*h(distance-0.003685)*h(0.263772-distance)                           No      1.61638       \n",
      "h(-73.9401-dropoff_longitude)*year*h(distance-0.003685)*h(0.263772-distance)                          No      0.788705      \n",
      "h(pickup_longitude+73.9331)*h(distance-0.003685)*h(0.263772-distance)                                 No      -345541       \n",
      "h(-73.9331-pickup_longitude)*h(distance-0.003685)*h(0.263772-distance)                                No      339491        \n",
      "h(dropoff_longitude+73.9335)*h(-73.9331-pickup_longitude)*h(distance-0.003685)*h(0.263772-distance)   No      98614         \n",
      "h(-73.9335-dropoff_longitude)*h(-73.9331-pickup_longitude)*h(distance-0.003685)*h(0.263772-distance)  Yes     None          \n",
      "h(pickup_latitude-40.7261)*h(dropoff_latitude-40.6974)                                                No      -27.4833      \n",
      "h(40.7261-pickup_latitude)*h(dropoff_latitude-40.6974)                                                No      1265.06       \n",
      "h(dropoff_longitude+73.8094)*h(pickup_longitude+73.9331)*h(distance-0.003685)*h(0.263772-distance)    Yes     None          \n",
      "h(-73.8094-dropoff_longitude)*h(pickup_longitude+73.9331)*h(distance-0.003685)*h(0.263772-distance)   No      74849.8       \n",
      "h(pickup_latitude-40.6889)*h(40.6974-dropoff_latitude)                                                No      1693.11       \n",
      "h(40.6889-pickup_latitude)*h(40.6974-dropoff_latitude)                                                No      -209.762      \n",
      "h(distance-7E-06)*h(0.003685-distance)*h(0.263772-distance)                                           No      -4.32989e+06  \n",
      "h(7E-06-distance)*h(0.003685-distance)*h(0.263772-distance)                                           No      -9.08692e+08  \n",
      "h(pickup_longitude+73.9488)*h(0.263772-distance)                                                      No      92.4451       \n",
      "h(-73.9488-pickup_longitude)*h(0.263772-distance)                                                     No      30.2248       \n",
      "----------------------------------------------------------------------------------------------------------------------------\n",
      "MSE: 12.1176, GCV: 12.1346, RSQ: 0.8027, GRSQ: 0.8024\n",
      "                      rss    nb_subsets\n",
      "distance              0.95   0.41          \n",
      "pickup_longitude      0.01   0.20          \n",
      "dropoff_longitude     0.01   0.12          \n",
      "year                  0.00   0.10          \n",
      "dropoff_latitude      0.01   0.10          \n",
      "pickup_latitude       0.01   0.08          \n",
      "is_weekend            0.00   0.00          \n",
      "day                   0.00   0.00          \n",
      "time                  0.00   0.00          \n",
      "passenger_count       0.00   0.00          \n",
      "\n"
     ]
    },
    {
     "data": {
      "text/plain": [
       "{'rss': array([0.01404648, 0.01039164, 0.0136579 , 0.01114222, 0.        ,\n",
       "        0.94745045, 0.        , 0.0033113 , 0.        , 0.        ]),\n",
       " 'nb_subsets': array([0.19607843, 0.07843137, 0.11764706, 0.09803922, 0.        ,\n",
       "        0.41176471, 0.        , 0.09803922, 0.        , 0.        ])}"
      ]
     },
     "execution_count": 33,
     "metadata": {},
     "output_type": "execute_result"
    }
   ],
   "source": [
    "print(mars.trace())\n",
    "print(mars.summary())\n",
    "print(mars.summary_feature_importances(sort_by='nb_subsets'))\n",
    "mars.feature_importances_"
   ]
  },
  {
   "cell_type": "code",
   "execution_count": null,
   "metadata": {},
   "outputs": [],
   "source": []
  }
 ],
 "metadata": {
  "kernelspec": {
   "display_name": "Python [conda env:learn-env] *",
   "language": "python",
   "name": "conda-env-learn-env-py"
  },
  "language_info": {
   "codemirror_mode": {
    "name": "ipython",
    "version": 3
   },
   "file_extension": ".py",
   "mimetype": "text/x-python",
   "name": "python",
   "nbconvert_exporter": "python",
   "pygments_lexer": "ipython3",
   "version": "3.6.9"
  }
 },
 "nbformat": 4,
 "nbformat_minor": 4
}
